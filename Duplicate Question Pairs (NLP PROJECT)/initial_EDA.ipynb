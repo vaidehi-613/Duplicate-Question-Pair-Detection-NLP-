{
 "cells": [
  {
   "cell_type": "code",
   "execution_count": 2,
   "id": "352851d3",
   "metadata": {},
   "outputs": [],
   "source": [
    "import numpy as np\n",
    "import pandas as pd\n",
    "import seaborn as sns\n",
    "import matplotlib.pyplot as plt"
   ]
  },
  {
   "cell_type": "code",
   "execution_count": 3,
   "id": "7ec7fdd8",
   "metadata": {},
   "outputs": [],
   "source": [
    "df = pd.read_csv('./data/train.csv')"
   ]
  },
  {
   "cell_type": "code",
   "execution_count": 7,
   "id": "ad4b3820",
   "metadata": {},
   "outputs": [
    {
     "data": {
      "text/html": [
       "<div>\n",
       "<style scoped>\n",
       "    .dataframe tbody tr th:only-of-type {\n",
       "        vertical-align: middle;\n",
       "    }\n",
       "\n",
       "    .dataframe tbody tr th {\n",
       "        vertical-align: top;\n",
       "    }\n",
       "\n",
       "    .dataframe thead th {\n",
       "        text-align: right;\n",
       "    }\n",
       "</style>\n",
       "<table border=\"1\" class=\"dataframe\">\n",
       "  <thead>\n",
       "    <tr style=\"text-align: right;\">\n",
       "      <th></th>\n",
       "      <th>id</th>\n",
       "      <th>qid1</th>\n",
       "      <th>qid2</th>\n",
       "      <th>question1</th>\n",
       "      <th>question2</th>\n",
       "      <th>is_duplicate</th>\n",
       "    </tr>\n",
       "  </thead>\n",
       "  <tbody>\n",
       "    <tr>\n",
       "      <th>238116</th>\n",
       "      <td>238116</td>\n",
       "      <td>9687</td>\n",
       "      <td>349411</td>\n",
       "      <td>What are the different types of pit bulls?</td>\n",
       "      <td>Are all-white pit bulls rare?</td>\n",
       "      <td>0</td>\n",
       "    </tr>\n",
       "    <tr>\n",
       "      <th>309448</th>\n",
       "      <td>309448</td>\n",
       "      <td>332633</td>\n",
       "      <td>61660</td>\n",
       "      <td>Can men use honey as a face mask?</td>\n",
       "      <td>How many times should I use face mask?</td>\n",
       "      <td>0</td>\n",
       "    </tr>\n",
       "    <tr>\n",
       "      <th>274206</th>\n",
       "      <td>274206</td>\n",
       "      <td>392797</td>\n",
       "      <td>392798</td>\n",
       "      <td>Fresher How much salary does a graphic designe...</td>\n",
       "      <td>How much salary does a graphic designer in Ind...</td>\n",
       "      <td>0</td>\n",
       "    </tr>\n",
       "    <tr>\n",
       "      <th>59239</th>\n",
       "      <td>59239</td>\n",
       "      <td>103792</td>\n",
       "      <td>103793</td>\n",
       "      <td>Where did the stereotype that Asians are smart...</td>\n",
       "      <td>Where does the stereotype of Asians all being ...</td>\n",
       "      <td>0</td>\n",
       "    </tr>\n",
       "    <tr>\n",
       "      <th>311567</th>\n",
       "      <td>311567</td>\n",
       "      <td>435851</td>\n",
       "      <td>435852</td>\n",
       "      <td>When did you have your first kiss and who was ...</td>\n",
       "      <td>Where did you have your first kiss?</td>\n",
       "      <td>0</td>\n",
       "    </tr>\n",
       "    <tr>\n",
       "      <th>153662</th>\n",
       "      <td>153662</td>\n",
       "      <td>241151</td>\n",
       "      <td>105234</td>\n",
       "      <td>Where can I find Borax in India?</td>\n",
       "      <td>If India is so good why do Indians leave India?</td>\n",
       "      <td>0</td>\n",
       "    </tr>\n",
       "    <tr>\n",
       "      <th>4801</th>\n",
       "      <td>4801</td>\n",
       "      <td>9479</td>\n",
       "      <td>9480</td>\n",
       "      <td>Is Stevie Wonder married?</td>\n",
       "      <td>Is Elizabeth Holmes married?</td>\n",
       "      <td>0</td>\n",
       "    </tr>\n",
       "    <tr>\n",
       "      <th>197421</th>\n",
       "      <td>197421</td>\n",
       "      <td>298379</td>\n",
       "      <td>298380</td>\n",
       "      <td>What do you think about Shobhaa De's Twitter c...</td>\n",
       "      <td>I have a offer for a Technical Product Manager...</td>\n",
       "      <td>0</td>\n",
       "    </tr>\n",
       "    <tr>\n",
       "      <th>403180</th>\n",
       "      <td>403180</td>\n",
       "      <td>500600</td>\n",
       "      <td>536751</td>\n",
       "      <td>How do I merge data from multiple data sources...</td>\n",
       "      <td>How should a circuit be designed to pull tens/...</td>\n",
       "      <td>0</td>\n",
       "    </tr>\n",
       "    <tr>\n",
       "      <th>65118</th>\n",
       "      <td>65118</td>\n",
       "      <td>24296</td>\n",
       "      <td>39651</td>\n",
       "      <td>How do I earn money online?</td>\n",
       "      <td>How can I earn money online from home only?</td>\n",
       "      <td>1</td>\n",
       "    </tr>\n",
       "  </tbody>\n",
       "</table>\n",
       "</div>"
      ],
      "text/plain": [
       "            id    qid1    qid2  \\\n",
       "238116  238116    9687  349411   \n",
       "309448  309448  332633   61660   \n",
       "274206  274206  392797  392798   \n",
       "59239    59239  103792  103793   \n",
       "311567  311567  435851  435852   \n",
       "153662  153662  241151  105234   \n",
       "4801      4801    9479    9480   \n",
       "197421  197421  298379  298380   \n",
       "403180  403180  500600  536751   \n",
       "65118    65118   24296   39651   \n",
       "\n",
       "                                                question1  \\\n",
       "238116         What are the different types of pit bulls?   \n",
       "309448                  Can men use honey as a face mask?   \n",
       "274206  Fresher How much salary does a graphic designe...   \n",
       "59239   Where did the stereotype that Asians are smart...   \n",
       "311567  When did you have your first kiss and who was ...   \n",
       "153662                   Where can I find Borax in India?   \n",
       "4801                            Is Stevie Wonder married?   \n",
       "197421  What do you think about Shobhaa De's Twitter c...   \n",
       "403180  How do I merge data from multiple data sources...   \n",
       "65118                         How do I earn money online?   \n",
       "\n",
       "                                                question2  is_duplicate  \n",
       "238116                      Are all-white pit bulls rare?             0  \n",
       "309448             How many times should I use face mask?             0  \n",
       "274206  How much salary does a graphic designer in Ind...             0  \n",
       "59239   Where does the stereotype of Asians all being ...             0  \n",
       "311567                Where did you have your first kiss?             0  \n",
       "153662    If India is so good why do Indians leave India?             0  \n",
       "4801                         Is Elizabeth Holmes married?             0  \n",
       "197421  I have a offer for a Technical Product Manager...             0  \n",
       "403180  How should a circuit be designed to pull tens/...             0  \n",
       "65118         How can I earn money online from home only?             1  "
      ]
     },
     "execution_count": 7,
     "metadata": {},
     "output_type": "execute_result"
    }
   ],
   "source": [
    "df.sample(10)"
   ]
  },
  {
   "cell_type": "code",
   "execution_count": 6,
   "id": "2ae1fe5f",
   "metadata": {},
   "outputs": [
    {
     "data": {
      "text/plain": [
       "(404290, 6)"
      ]
     },
     "execution_count": 6,
     "metadata": {},
     "output_type": "execute_result"
    }
   ],
   "source": [
    "df.shape"
   ]
  },
  {
   "cell_type": "code",
   "execution_count": 8,
   "id": "2406a44d",
   "metadata": {
    "scrolled": true
   },
   "outputs": [
    {
     "name": "stdout",
     "output_type": "stream",
     "text": [
      "<class 'pandas.core.frame.DataFrame'>\n",
      "RangeIndex: 404290 entries, 0 to 404289\n",
      "Data columns (total 6 columns):\n",
      " #   Column        Non-Null Count   Dtype \n",
      "---  ------        --------------   ----- \n",
      " 0   id            404290 non-null  int64 \n",
      " 1   qid1          404290 non-null  int64 \n",
      " 2   qid2          404290 non-null  int64 \n",
      " 3   question1     404289 non-null  object\n",
      " 4   question2     404288 non-null  object\n",
      " 5   is_duplicate  404290 non-null  int64 \n",
      "dtypes: int64(4), object(2)\n",
      "memory usage: 18.5+ MB\n"
     ]
    }
   ],
   "source": [
    "df.info()"
   ]
  },
  {
   "cell_type": "code",
   "execution_count": 9,
   "id": "bb649c1d",
   "metadata": {},
   "outputs": [
    {
     "data": {
      "text/plain": [
       "id              0\n",
       "qid1            0\n",
       "qid2            0\n",
       "question1       1\n",
       "question2       2\n",
       "is_duplicate    0\n",
       "dtype: int64"
      ]
     },
     "execution_count": 9,
     "metadata": {},
     "output_type": "execute_result"
    }
   ],
   "source": [
    "# check missing values\n",
    "df.isnull().sum()"
   ]
  },
  {
   "cell_type": "code",
   "execution_count": 10,
   "id": "6c2bdeea",
   "metadata": {},
   "outputs": [
    {
     "data": {
      "text/plain": [
       "0"
      ]
     },
     "execution_count": 10,
     "metadata": {},
     "output_type": "execute_result"
    }
   ],
   "source": [
    "#check duplicate values for both the question\n",
    "df.duplicated().sum()"
   ]
  },
  {
   "cell_type": "code",
   "execution_count": 12,
   "id": "68fe9df8",
   "metadata": {},
   "outputs": [
    {
     "name": "stdout",
     "output_type": "stream",
     "text": [
      "is_duplicate\n",
      "0    255027\n",
      "1    149263\n",
      "Name: count, dtype: int64\n",
      "is_duplicate\n",
      "0    63.080215\n",
      "1    36.919785\n",
      "Name: count, dtype: float64\n"
     ]
    },
    {
     "data": {
      "text/plain": [
       "<AxesSubplot: xlabel='is_duplicate'>"
      ]
     },
     "execution_count": 12,
     "metadata": {},
     "output_type": "execute_result"
    },
    {
     "data": {
      "image/png": "[encoded data removed]",
      "text/plain": [
       "<Figure size 432x288 with 1 Axes>"
      ]
     },
     "metadata": {
      "needs_background": "light"
     },
     "output_type": "display_data"
    }
   ],
   "source": [
    "# Distribution of duplicate and non- duplicate question \n",
    "\n",
    "print(df['is_duplicate'].value_counts())\n",
    "# in percentage \n",
    "print((df['is_duplicate'].value_counts() / df['is_duplicate'].count() ) *100)\n",
    "df['is_duplicate'].value_counts().plot(kind='bar')"
   ]
  },
  {
   "cell_type": "code",
   "execution_count": 22,
   "id": "328ef864",
   "metadata": {},
   "outputs": [
    {
     "name": "stdout",
     "output_type": "stream",
     "text": [
      "(537933,)\n",
      "Number of unique questions 537933\n",
      "Number of questions getting repeated 111780\n"
     ]
    }
   ],
   "source": [
    "# repeated  questions\n",
    "\n",
    "qid = pd.Series(df['qid1'].tolist() + df['qid2'].tolist())\n",
    "print(np.unique(qid).shape)\n",
    "print('Number of unique questions' , np.unique(qid).shape[0])\n",
    "x  = qid.value_counts()>1\n",
    "#print(x)\n",
    "print('Number of questions getting repeated', x[x].shape[0])\n"
   ]
  },
  {
   "cell_type": "code",
   "execution_count": 23,
   "id": "23d2a1ca",
   "metadata": {},
   "outputs": [
    {
     "data": {
      "image/png": "[encoded data removed]",
      "text/plain": [
       "<Figure size 432x288 with 1 Axes>"
      ]
     },
     "metadata": {
      "needs_background": "light"
     },
     "output_type": "display_data"
    }
   ],
   "source": [
    "# Repeated questions histogram\n",
    "\n",
    "plt.hist(qid.value_counts().values, bins=160)\n",
    "plt.yscale('log')\n",
    "plt.show()"
   ]
  },
  {
   "cell_type": "code",
   "execution_count": null,
   "id": "917cd00d",
   "metadata": {},
   "outputs": [],
   "source": []
  }
 ],
 "metadata": {
  "kernelspec": {
   "display_name": "Python 3 (ipykernel)",
   "language": "python",
   "name": "python3"
  },
  "language_info": {
   "codemirror_mode": {
    "name": "ipython",
    "version": 3
   },
   "file_extension": ".py",
   "mimetype": "text/x-python",
   "name": "python",
   "nbconvert_exporter": "python",
   "pygments_lexer": "ipython3",
   "version": "3.8.10"
  }
 },
 "nbformat": 4,
 "nbformat_minor": 5
}
